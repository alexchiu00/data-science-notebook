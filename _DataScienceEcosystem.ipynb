{
  "metadata": {
    "kernelspec": {
      "name": "python",
      "display_name": "Python (Pyodide)",
      "language": "python"
    },
    "language_info": {
      "codemirror_mode": {
        "name": "python",
        "version": 3
      },
      "file_extension": ".py",
      "mimetype": "text/x-python",
      "name": "python",
      "nbconvert_exporter": "python",
      "pygments_lexer": "ipython3",
      "version": "3.8"
    }
  },
  "nbformat_minor": 5,
  "nbformat": 4,
  "cells": [
    {
      "id": "9eee99ba-660b-40cd-8c3d-363d69d1ebab",
      "cell_type": "markdown",
      "source": "# Data Science Tools and Ecosystem",
      "metadata": {}
    },
    {
      "id": "a2c190e1-8540-42bd-a67c-ad6eb0b01979",
      "cell_type": "markdown",
      "source": "In this notebook, Data Science Tools and Ecosystem are summarized.",
      "metadata": {}
    },
    {
      "id": "89812d80-51a9-44dc-9301-e095d4e5ea2d",
      "cell_type": "markdown",
      "source": "**Objectives:**\n\n- List popular languages for Data Science  \n- Identify commonly used data science libraries  \n- Explore open source data science development tools  \n- Understand basic arithmetic expressions in Python  \n- Convert units using simple Python expressions",
      "metadata": {}
    },
    {
      "id": "fd0a7472-5562-4766-8a04-2e7ea025c4f1",
      "cell_type": "markdown",
      "source": "Some of the popular languages that Data Scientists use are:\n\n1. Python  \n2. R  \n3. SQL  \n4. Julia  \n5. Scala",
      "metadata": {}
    },
    {
      "id": "f0f7995e-10af-4f93-bd86-88d3126502a9",
      "cell_type": "markdown",
      "source": "Some of the commonly used libraries used by Data Scientists include:\n\n1. Pandas  \n2. NumPy  \n3. Matplotlib  \n4. Scikit-learn  \n5. TensorFlow",
      "metadata": {}
    },
    {
      "id": "a7c11936-36bd-4b1c-9c51-985914400b62",
      "cell_type": "markdown",
      "source": "| Data Science Tools         |\n|----------------------------|\n| Jupyter Notebook           |\n| RStudio                    |\n| Apache Zeppelin            |\n",
      "metadata": {}
    },
    {
      "id": "2be8a976-210c-47bb-85e4-89870da26308",
      "cell_type": "markdown",
      "source": "### Below are a few examples of evaluating arithmetic expressions in Python.",
      "metadata": {}
    },
    {
      "id": "13feaa59-e5f1-47c4-a1e5-ef115a67c2fa",
      "cell_type": "code",
      "source": "#This is a simple arithmetic expression to multiply then add integers\n(3 * 4) + 5",
      "metadata": {
        "trusted": true
      },
      "outputs": [
        {
          "execution_count": 1,
          "output_type": "execute_result",
          "data": {
            "text/plain": "17"
          },
          "metadata": {}
        }
      ],
      "execution_count": 1
    },
    {
      "id": "8e093893-923c-446d-aa91-b59a4f7cd92f",
      "cell_type": "code",
      "source": "# This will convert 200 minutes to hours by dividing by 60\n200 / 60",
      "metadata": {
        "trusted": true
      },
      "outputs": [
        {
          "execution_count": 2,
          "output_type": "execute_result",
          "data": {
            "text/plain": "3.3333333333333335"
          },
          "metadata": {}
        }
      ],
      "execution_count": 2
    },
    {
      "id": "842fd5ec-e216-431e-9e13-13aeca4ab2b8",
      "cell_type": "markdown",
      "source": "## Author\n\nTing Fung Chiu",
      "metadata": {}
    }
  ]
}